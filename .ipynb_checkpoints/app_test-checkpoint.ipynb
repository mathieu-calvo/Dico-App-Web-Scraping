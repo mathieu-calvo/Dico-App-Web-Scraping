{
 "cells": [
  {
   "cell_type": "code",
   "execution_count": 14,
   "metadata": {},
   "outputs": [
    {
     "data": {
      "application/vnd.jupyter.widget-view+json": {
       "model_id": "cae9d2e5ba7e46028afe15b9faf30c0f",
       "version_major": 2,
       "version_minor": 0
      },
      "text/plain": [
       "VBox(children=(Dropdown(description='from:', options=('francais', 'italien', 'anglais', 'espagnol'), value='fr…"
      ]
     },
     "metadata": {},
     "output_type": "display_data"
    }
   ],
   "source": [
    "from IPython.display import display, HTML\n",
    "\n",
    "import imp\n",
    "\n",
    "import VocabulaireApp as voc\n",
    "imp.reload(voc);\n",
    "app = voc.VocabulaireApp()\n",
    "app.show_gui()"
   ]
  },
  {
   "cell_type": "code",
   "execution_count": 17,
   "metadata": {},
   "outputs": [
    {
     "data": {
      "text/plain": [
       "<module 'ReversoDictionary' from 'C:\\\\Users\\\\mathi\\\\Documents\\\\Python Scripts\\\\Dico-App-Web-Scraping\\\\ReversoDictionary.py'>"
      ]
     },
     "execution_count": 17,
     "metadata": {},
     "output_type": "execute_result"
    }
   ],
   "source": [
    "import ReversoDictionary\n",
    "imp.reload(ReversoDictionary)"
   ]
  },
  {
   "cell_type": "code",
   "execution_count": 18,
   "metadata": {},
   "outputs": [],
   "source": [
    "from ReversoDictionary import ReversoDictionary \n",
    "\n",
    "app = ReversoDictionary()\n",
    "\n",
    "# app.set_up_translation_type('fr', 'def')\n",
    "# mot = 'pratiquemment'\n",
    "# word_url, html_elems, content_df, elems_norm = app.translate_or_define(mot, target=False)\n",
    "\n",
    "mot = 'pratiquemment'\n",
    "lang1 = 'fr'\n",
    "lang2 = 'def'\n",
    "word_url, html_elems, content_df, elems_norm = app.get_translation_or_definition(mot, lang1, lang2, target=False)"
   ]
  },
  {
   "cell_type": "code",
   "execution_count": 19,
   "metadata": {},
   "outputs": [
    {
     "data": {
      "text/plain": [
       "'http://dictionary.reverso.net/francais-definition/pratiquemment'"
      ]
     },
     "execution_count": 19,
     "metadata": {},
     "output_type": "execute_result"
    }
   ],
   "source": [
    "word_url"
   ]
  },
  {
   "cell_type": "code",
   "execution_count": 20,
   "metadata": {},
   "outputs": [
    {
     "data": {
      "text/html": [
       "<span direction=\"\" id=\"ID0EQ\" style=\"color:#0000ff;\"><h2 class=\"resh2\">pratiquement</h2> <span class=\"nbsp1\" style=\"height:12px;width:4px;padding-left:4px;*padding-left:0px\">  </span></span> <span direction=\"\" id=\"ID0EZ\" style=\"color:#ffffff;\"> <span style=\"background-color:#000000\"></span></span> <span direction=\"\" id=\"ID0EEB\" style=\"color:#B50000;\">adv<span class=\"nbsp1\" style=\"height:12px;width:6px;padding-left:6px;*padding-left:0px\">  </span></span> <span direction=\"\" id=\"ID0EOB\" style=\"color:#ffffff;\"> <span style=\"background-color:#000000\">1</span></span> <span direction=\"target\" id=\"ID0EYB\" style=\"color:#0;\">dans la pratique<span class=\"nbsp1\" style=\"height:12px;width:4px;padding-left:4px;*padding-left:0px\">  </span></span> <span direction=\"\" id=\"ID0EDC\" style=\"color:#ffffff;\"> <span style=\"background-color:#000000\">2</span></span> <span direction=\"target\" id=\"ID0ENC\" style=\"color:#0;\">en fait<span class=\"nbsp1\" style=\"height:12px;width:4px;padding-left:4px;*padding-left:0px\">  </span></span> <span class=\"ellipsis_text\" dir=\"ltr\" direction=\"\" id=\"0_LST\">indéjantable</span> <span direction=\"\" id=\"0_LWT\" title=\"Noun\">n.</span> <span class=\"ellipsis_text\" dir=\"ltr\" direction=\"target\" id=\"0_LT\">Pratiquement increvable : le pneu indéjantable de Michelin  inventé en 1996</span> <span class=\"ellipsis_text\" direction=\"\" id=\"0_LC\" title=\" \"> </span>"
      ],
      "text/plain": [
       "<IPython.core.display.HTML object>"
      ]
     },
     "execution_count": 20,
     "metadata": {},
     "output_type": "execute_result"
    }
   ],
   "source": [
    "html_display = HTML(elems_norm)\n",
    "html_display"
   ]
  },
  {
   "cell_type": "code",
   "execution_count": 21,
   "metadata": {},
   "outputs": [
    {
     "data": {
      "text/plain": [
       "[<span direction=\"\" id=\"ID0EQ\" style=\"color:#0000ff;\"><h2 class=\"resh2\">pratiquement</h2> <span class=\"nbsp1\" style=\"height:12px;width:4px;padding-left:4px;*padding-left:0px\">  </span></span>,\n",
       " <span direction=\"\" id=\"ID0EZ\" style=\"color:#ffffff;\"> <span style=\"background-color:#000000\"></span></span>,\n",
       " <span direction=\"\" id=\"ID0EEB\" style=\"color:#B50000;\">adv<span class=\"nbsp1\" style=\"height:12px;width:6px;padding-left:6px;*padding-left:0px\">  </span></span>,\n",
       " <span direction=\"\" id=\"ID0EOB\" style=\"color:#ffffff;\"> <span style=\"background-color:#000000\">1</span></span>,\n",
       " <span direction=\"target\" id=\"ID0EYB\" style=\"color:#0;\">dans la pratique<span class=\"nbsp1\" style=\"height:12px;width:4px;padding-left:4px;*padding-left:0px\">  </span></span>,\n",
       " <span direction=\"\" id=\"ID0EDC\" style=\"color:#ffffff;\"> <span style=\"background-color:#000000\">2</span></span>,\n",
       " <span direction=\"target\" id=\"ID0ENC\" style=\"color:#0;\">en fait<span class=\"nbsp1\" style=\"height:12px;width:4px;padding-left:4px;*padding-left:0px\">  </span></span>,\n",
       " <span class=\"ellipsis_text\" dir=\"ltr\" direction=\"\" id=\"0_LST\">indéjantable</span>,\n",
       " <span direction=\"\" id=\"0_LWT\" title=\"Noun\">n.</span>,\n",
       " <span class=\"ellipsis_text\" dir=\"ltr\" direction=\"target\" id=\"0_LT\">Pratiquement increvable : le pneu indéjantable de Michelin , inventé en 1996</span>,\n",
       " <span class=\"ellipsis_text\" direction=\"\" id=\"0_LC\" title=\" \"> </span>]"
      ]
     },
     "execution_count": 21,
     "metadata": {},
     "output_type": "execute_result"
    }
   ],
   "source": [
    "html_elems"
   ]
  },
  {
   "cell_type": "code",
   "execution_count": 22,
   "metadata": {},
   "outputs": [
    {
     "data": {
      "text/html": [
       "<div>\n",
       "<style scoped>\n",
       "    .dataframe tbody tr th:only-of-type {\n",
       "        vertical-align: middle;\n",
       "    }\n",
       "\n",
       "    .dataframe tbody tr th {\n",
       "        vertical-align: top;\n",
       "    }\n",
       "\n",
       "    .dataframe thead th {\n",
       "        text-align: right;\n",
       "    }\n",
       "</style>\n",
       "<table border=\"1\" class=\"dataframe\">\n",
       "  <thead>\n",
       "    <tr style=\"text-align: right;\">\n",
       "      <th></th>\n",
       "      <th>francais</th>\n",
       "      <th>contexte</th>\n",
       "      <th>cat</th>\n",
       "      <th>definition</th>\n",
       "    </tr>\n",
       "  </thead>\n",
       "  <tbody>\n",
       "    <tr>\n",
       "      <th>0</th>\n",
       "      <td>pratiquement</td>\n",
       "      <td></td>\n",
       "      <td>adv</td>\n",
       "      <td>dans la pratique</td>\n",
       "    </tr>\n",
       "    <tr>\n",
       "      <th>1</th>\n",
       "      <td></td>\n",
       "      <td></td>\n",
       "      <td></td>\n",
       "      <td>en fait</td>\n",
       "    </tr>\n",
       "    <tr>\n",
       "      <th>2</th>\n",
       "      <td>indéjantable</td>\n",
       "      <td></td>\n",
       "      <td>n.</td>\n",
       "      <td>Pratiquement increvable : le pneu indéjantable...</td>\n",
       "    </tr>\n",
       "  </tbody>\n",
       "</table>\n",
       "</div>"
      ],
      "text/plain": [
       "       francais contexte  cat  \\\n",
       "0  pratiquement           adv   \n",
       "1                               \n",
       "2  indéjantable            n.   \n",
       "\n",
       "                                          definition  \n",
       "0                                   dans la pratique  \n",
       "1                                            en fait  \n",
       "2  Pratiquement increvable : le pneu indéjantable...  "
      ]
     },
     "execution_count": 22,
     "metadata": {},
     "output_type": "execute_result"
    }
   ],
   "source": [
    "content_df"
   ]
  },
  {
   "cell_type": "code",
   "execution_count": 23,
   "metadata": {},
   "outputs": [
    {
     "data": {
      "text/plain": [
       "'<span direction=\"\" id=\"ID0EQ\" style=\"color:#0000ff;\"><h2 class=\"resh2\">pratiquement</h2> <span class=\"nbsp1\" style=\"height:12px;width:4px;padding-left:4px;*padding-left:0px\">  </span></span> <span direction=\"\" id=\"ID0EZ\" style=\"color:#ffffff;\"> <span style=\"background-color:#000000\"></span></span> <span direction=\"\" id=\"ID0EEB\" style=\"color:#B50000;\">adv<span class=\"nbsp1\" style=\"height:12px;width:6px;padding-left:6px;*padding-left:0px\">  </span></span> <span direction=\"\" id=\"ID0EOB\" style=\"color:#ffffff;\"> <span style=\"background-color:#000000\">1</span></span> <span direction=\"target\" id=\"ID0EYB\" style=\"color:#0;\">dans la pratique<span class=\"nbsp1\" style=\"height:12px;width:4px;padding-left:4px;*padding-left:0px\">  </span></span> <span direction=\"\" id=\"ID0EDC\" style=\"color:#ffffff;\"> <span style=\"background-color:#000000\">2</span></span> <span direction=\"target\" id=\"ID0ENC\" style=\"color:#0;\">en fait<span class=\"nbsp1\" style=\"height:12px;width:4px;padding-left:4px;*padding-left:0px\">  </span></span> <span class=\"ellipsis_text\" dir=\"ltr\" direction=\"\" id=\"0_LST\">indéjantable</span> <span direction=\"\" id=\"0_LWT\" title=\"Noun\">n.</span> <span class=\"ellipsis_text\" dir=\"ltr\" direction=\"target\" id=\"0_LT\">Pratiquement increvable : le pneu indéjantable de Michelin  inventé en 1996</span> <span class=\"ellipsis_text\" direction=\"\" id=\"0_LC\" title=\" \"> </span>'"
      ]
     },
     "execution_count": 23,
     "metadata": {},
     "output_type": "execute_result"
    }
   ],
   "source": [
    "elems_norm"
   ]
  },
  {
   "cell_type": "code",
   "execution_count": 24,
   "metadata": {},
   "outputs": [
    {
     "data": {
      "text/plain": [
       "<span direction=\"\" id=\"ID0EQ\" style=\"color:#0000ff;\"><h2 class=\"resh2\">pratiquement</h2> <span class=\"nbsp1\" style=\"height:12px;width:4px;padding-left:4px;*padding-left:0px\"> </span></span> <span direction=\"\" id=\"ID0EZ\" style=\"color:#ffffff;\"> <span style=\"background-color:#000000\"></span></span> <span direction=\"\" id=\"ID0EEB\" style=\"color:#B50000;\">adv<span class=\"nbsp1\" style=\"height:12px;width:6px;padding-left:6px;*padding-left:0px\"> </span></span> <span direction=\"\" id=\"ID0EOB\" style=\"color:#ffffff;\"> <span style=\"background-color:#000000\">1</span></span> <span direction=\"target\" id=\"ID0EYB\" style=\"color:#0;\">dans la pratique<span class=\"nbsp1\" style=\"height:12px;width:4px;padding-left:4px;*padding-left:0px\"> </span></span> <span direction=\"\" id=\"ID0EDC\" style=\"color:#ffffff;\"> <span style=\"background-color:#000000\">2</span></span> <span direction=\"target\" id=\"ID0ENC\" style=\"color:#0;\">en fait<span class=\"nbsp1\" style=\"height:12px;width:4px;padding-left:4px;*padding-left:0px\"> </span></span> <span class=\"ellipsis_text\" dir=\"ltr\" direction=\"\" id=\"0_LST\">indéjantable</span> <span direction=\"\" id=\"0_LWT\" title=\"Noun\">n.</span> <span class=\"ellipsis_text\" dir=\"ltr\" direction=\"target\" id=\"0_LT\">Pratiquement increvable : le pneu indéjantable de Michelin  inventé en 1996</span> <span class=\"ellipsis_text\" direction=\"\" id=\"0_LC\" title=\" \"> </span>"
      ]
     },
     "execution_count": 24,
     "metadata": {},
     "output_type": "execute_result"
    }
   ],
   "source": [
    "import bs4\n",
    "\n",
    "bs4.BeautifulSoup(elems_norm)"
   ]
  },
  {
   "cell_type": "code",
   "execution_count": 25,
   "metadata": {},
   "outputs": [
    {
     "data": {
      "text/plain": [
       "bs4.BeautifulSoup"
      ]
     },
     "execution_count": 25,
     "metadata": {},
     "output_type": "execute_result"
    }
   ],
   "source": [
    "type(_)"
   ]
  },
  {
   "cell_type": "code",
   "execution_count": null,
   "metadata": {},
   "outputs": [],
   "source": []
  }
 ],
 "metadata": {
  "kernelspec": {
   "display_name": "Python 3",
   "language": "python",
   "name": "python3"
  },
  "language_info": {
   "codemirror_mode": {
    "name": "ipython",
    "version": 3
   },
   "file_extension": ".py",
   "mimetype": "text/x-python",
   "name": "python",
   "nbconvert_exporter": "python",
   "pygments_lexer": "ipython3",
   "version": "3.8.2"
  }
 },
 "nbformat": 4,
 "nbformat_minor": 4
}
