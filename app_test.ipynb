{
 "cells": [
  {
   "cell_type": "code",
   "execution_count": 1,
   "metadata": {},
   "outputs": [],
   "source": [
    "from IPython.display import display, HTML\n",
    "\n",
    "import imp\n",
    "\n",
    "import VocabulaireApp as voc\n",
    "imp.reload(voc);\n",
    "app = voc.VocabulaireApp()"
   ]
  },
  {
   "cell_type": "code",
   "execution_count": 2,
   "metadata": {},
   "outputs": [
    {
     "data": {
      "application/vnd.jupyter.widget-view+json": {
       "model_id": "45d1de6c589746188e97f85257b555bd",
       "version_major": 2,
       "version_minor": 0
      },
      "text/plain": [
       "VBox(children=(Dropdown(description='from:', options=('francais', 'italien', 'anglais', 'espagnol'), value='fr…"
      ]
     },
     "metadata": {},
     "output_type": "display_data"
    }
   ],
   "source": [
    "app.show_gui()"
   ]
  },
  {
   "cell_type": "code",
   "execution_count": 3,
   "metadata": {},
   "outputs": [],
   "source": [
    "from ReversoDictionary import ReversoDictionary \n",
    "\n",
    "app = ReversoDictionary()\n",
    "app.set_up_translation_type('fr', 'def')\n",
    "mot = 'croquant'\n",
    "word_url, html_elems, content_df, elems_norm = app.translate_or_define(mot, target=False)"
   ]
  },
  {
   "cell_type": "code",
   "execution_count": 12,
   "metadata": {},
   "outputs": [
    {
     "data": {
      "text/plain": [
       "'http://dictionary.reverso.net/francais-definition/croquant'"
      ]
     },
     "execution_count": 12,
     "metadata": {},
     "output_type": "execute_result"
    }
   ],
   "source": [
    "word_url"
   ]
  },
  {
   "cell_type": "code",
   "execution_count": 8,
   "metadata": {},
   "outputs": [
    {
     "data": {
      "text/html": [
       "<span direction=\"\" id=\"ID0EQ\" style=\"color:#0000ff;\"><h2 class=\"resh2\">croquant</h2> <span class=\"nbsp1\" style=\"height:12px;width:4px;padding-left:4px;*padding-left:0px\">  </span></span> <span direction=\"\" id=\"ID0EZ\" style=\"color:#ffffff;\"> <span style=\"background-color:#000000\"></span></span> <span direction=\"\" id=\"ID0EEB\" style=\"color:#B50000;\">adj m<span class=\"nbsp1\" style=\"height:12px;width:6px;padding-left:6px;*padding-left:0px\">  </span></span> <span direction=\"\" id=\"ID0EOB\" style=\"color:#ffffff;\"> <span style=\"background-color:#000000\">1</span></span> <span direction=\"target\" id=\"ID0EYB\" style=\"color:#0;\">qui croque sous la dent<span class=\"nbsp1\" style=\"height:12px;width:4px;padding-left:4px;*padding-left:0px\">  </span></span> <span direction=\"\" id=\"ID0ECC\" style=\"color:#ffffff;\"> <span style=\"background-color:#000000\"></span></span> <span direction=\"\" id=\"ID0ENC\" style=\"color:#B50000;\">nm<span class=\"nbsp1\" style=\"height:12px;width:6px;padding-left:6px;*padding-left:0px\">  </span></span> <span direction=\"\" id=\"ID0EXC\" style=\"color:#ffffff;\"> <span style=\"background-color:#000000\">2</span></span> <span direction=\"\" id=\"ID0EAD\" style=\"color:#008000;\"> <span class=\"nbsp1\" style=\"height:12px;width:6px;padding-left:6px;*padding-left:0px\">  </span>(histoire)<span class=\"nbsp1\" style=\"height:12px;width:4px;padding-left:4px;*padding-left:0px\">  </span></span> <span direction=\"target\" id=\"ID0EMD\" style=\"color:#0;\">paysan révolté participant à une jacquerie<span class=\"nbsp1\" style=\"height:12px;width:4px;padding-left:4px;*padding-left:0px\">  </span></span> <span direction=\"\" id=\"ID0EXD\" style=\"color:#ffffff;\"> <span style=\"background-color:#000000\">3</span></span> <span direction=\"\" id=\"ID0EAE\" style=\"color:#008000;\">péjorativement<span class=\"nbsp1\" style=\"height:12px;width:4px;padding-left:4px;*padding-left:0px\">  </span></span> <span direction=\"target\" id=\"ID0EIE\" style=\"color:#0;\">paysan<span class=\"nbsp1\" style=\"height:12px;width:4px;padding-left:4px;*padding-left:0px\">  </span></span> <span direction=\"\" id=\"ID0ETE\" style=\"color:#ffffff;\"> <span style=\"background-color:#000000\">4</span></span> <span direction=\"\" id=\"ID0E3E\" style=\"color:#008000;\"> <span class=\"nbsp1\" style=\"height:12px;width:6px;padding-left:6px;*padding-left:0px\">  </span>(anatomie)<span class=\"nbsp1\" style=\"height:12px;width:4px;padding-left:4px;*padding-left:0px\">  </span></span> <span direction=\"target\" id=\"ID0EIF\" style=\"color:#0;\">partie cartilagineuse de l'oreille<span class=\"nbsp1\" style=\"height:12px;width:4px;padding-left:4px;*padding-left:0px\">  </span></span> <span direction=\"\" id=\"ID0ETF\" style=\"color:#ffffff;\"> <span style=\"background-color:#000000\">5</span></span> <span direction=\"\" id=\"ID0E3F\" style=\"color:#008000;\"> <span class=\"nbsp1\" style=\"height:12px;width:6px;padding-left:6px;*padding-left:0px\">  </span>(pâtisserie)<span class=\"nbsp1\" style=\"height:12px;width:4px;padding-left:4px;*padding-left:0px\">  </span></span> <span direction=\"target\" id=\"ID0EIG\" style=\"color:#0;\">petit gâteau à base de pâte d'amande<span class=\"nbsp1\" style=\"height:12px;width:4px;padding-left:4px;*padding-left:0px\">  </span></span> <span direction=\"\" id=\"ID0EQ\" style=\"color:#0000ff;\"><h2 class=\"resh2\">croquant</h2></span> <span direction=\"\" id=\"ID0EW\" style=\"color:#0000ff;\"> es<span class=\"nbsp1\" style=\"height:12px;width:2px;padding-left:2px;*padding-left:0px\">  </span></span> <span direction=\"\" id=\"ID0EAB\" style=\"color:#ffffff;\"> <span style=\"background-color:#000000\"></span></span> <span direction=\"\" id=\"ID0ELB\" style=\"color:#B50000;\">adj m<span class=\"nbsp1\" style=\"height:12px;width:6px;padding-left:6px;*padding-left:0px\">  </span></span> <span direction=\"\" id=\"ID0EVB\" style=\"color:#ffffff;\"> <span style=\"background-color:#000000\">1</span></span> <span direction=\"target\" id=\"ID0E6B\" style=\"color:#0;\">croustillant craquant<span class=\"nbsp1\" style=\"height:12px;width:4px;padding-left:4px;*padding-left:0px\">  </span></span> <span direction=\"\" id=\"ID0EJC\" style=\"color:#ffffff;\"> <span style=\"background-color:#000000\"></span></span> <span direction=\"\" id=\"ID0EUC\" style=\"color:#B50000;\">nm<span class=\"nbsp1\" style=\"height:12px;width:6px;padding-left:6px;*padding-left:0px\">  </span></span> <span direction=\"\" id=\"ID0E5C\" style=\"color:#ffffff;\"> <span style=\"background-color:#000000\">2</span></span> <span direction=\"target\" id=\"ID0EID\" style=\"color:#0;\">paysan agriculteur péon éleveur fermier cultivateur métayer cul-terreux manant laboureur péquenaud terrien vilain campagnard bouseux villageois<span class=\"nbsp1\" style=\"height:12px;width:4px;padding-left:4px;*padding-left:0px\">  </span></span> <span direction=\"\" id=\"ID0ETD\" style=\"color:#ffffff;\"> <span style=\"background-color:#000000\">3</span></span> <span direction=\"target\" id=\"ID0E4D\" style=\"color:#0;\">misérable miséreuse gueux va-nu-pieds désespéré traîne-misère miséreux hère paria<span class=\"nbsp1\" style=\"height:12px;width:4px;padding-left:4px;*padding-left:0px\">  </span></span> <span direction=\"\" id=\"ID0EIE\" style=\"color:#ffffff;\"> <span style=\"background-color:#000000\">4</span></span> <span direction=\"target\" id=\"ID0ESE\" style=\"color:#0;\">biscuit galette petit-beurre biscotte gâteau<span class=\"nbsp1\" style=\"height:12px;width:4px;padding-left:4px;*padding-left:0px\">  </span></span> <span class=\"ellipsis_text\" dir=\"ltr\" direction=\"\" id=\"0_LST\">sucrine</span> <span direction=\"\" id=\"0_LWT\" title=\"Noun\">n.</span> <span class=\"ellipsis_text\" dir=\"ltr\" direction=\"target\" id=\"0_LT\">petite laitue croquante</span> <span class=\"ellipsis_text\" direction=\"\" id=\"0_LC\" title=\" \"> </span>"
      ],
      "text/plain": [
       "<IPython.core.display.HTML object>"
      ]
     },
     "execution_count": 8,
     "metadata": {},
     "output_type": "execute_result"
    }
   ],
   "source": [
    "html_display = HTML(elems_norm)\n",
    "html_display"
   ]
  },
  {
   "cell_type": "code",
   "execution_count": 9,
   "metadata": {},
   "outputs": [
    {
     "data": {
      "text/plain": [
       "[<span direction=\"\" id=\"ID0EQ\" style=\"color:#0000ff;\"><h2 class=\"resh2\">croquant</h2> <span class=\"nbsp1\" style=\"height:12px;width:4px;padding-left:4px;*padding-left:0px\">  </span></span>,\n",
       " <span direction=\"\" id=\"ID0EZ\" style=\"color:#ffffff;\"> <span style=\"background-color:#000000\"></span></span>,\n",
       " <span direction=\"\" id=\"ID0EEB\" style=\"color:#B50000;\">adj m<span class=\"nbsp1\" style=\"height:12px;width:6px;padding-left:6px;*padding-left:0px\">  </span></span>,\n",
       " <span direction=\"\" id=\"ID0EOB\" style=\"color:#ffffff;\"> <span style=\"background-color:#000000\">1</span></span>,\n",
       " <span direction=\"target\" id=\"ID0EYB\" style=\"color:#0;\">qui croque sous la dent<span class=\"nbsp1\" style=\"height:12px;width:4px;padding-left:4px;*padding-left:0px\">  </span></span>,\n",
       " <span direction=\"\" id=\"ID0ECC\" style=\"color:#ffffff;\"> <span style=\"background-color:#000000\"></span></span>,\n",
       " <span direction=\"\" id=\"ID0ENC\" style=\"color:#B50000;\">nm<span class=\"nbsp1\" style=\"height:12px;width:6px;padding-left:6px;*padding-left:0px\">  </span></span>,\n",
       " <span direction=\"\" id=\"ID0EXC\" style=\"color:#ffffff;\"> <span style=\"background-color:#000000\">2</span></span>,\n",
       " <span direction=\"\" id=\"ID0EAD\" style=\"color:#008000;\"> <span class=\"nbsp1\" style=\"height:12px;width:6px;padding-left:6px;*padding-left:0px\">  </span>(histoire)<span class=\"nbsp1\" style=\"height:12px;width:4px;padding-left:4px;*padding-left:0px\">  </span></span>,\n",
       " <span direction=\"target\" id=\"ID0EMD\" style=\"color:#0;\">paysan révolté participant à une jacquerie<span class=\"nbsp1\" style=\"height:12px;width:4px;padding-left:4px;*padding-left:0px\">  </span></span>,\n",
       " <span direction=\"\" id=\"ID0EXD\" style=\"color:#ffffff;\"> <span style=\"background-color:#000000\">3</span></span>,\n",
       " <span direction=\"\" id=\"ID0EAE\" style=\"color:#008000;\">péjorativement<span class=\"nbsp1\" style=\"height:12px;width:4px;padding-left:4px;*padding-left:0px\">  </span></span>,\n",
       " <span direction=\"target\" id=\"ID0EIE\" style=\"color:#0;\">paysan<span class=\"nbsp1\" style=\"height:12px;width:4px;padding-left:4px;*padding-left:0px\">  </span></span>,\n",
       " <span direction=\"\" id=\"ID0ETE\" style=\"color:#ffffff;\"> <span style=\"background-color:#000000\">4</span></span>,\n",
       " <span direction=\"\" id=\"ID0E3E\" style=\"color:#008000;\"> <span class=\"nbsp1\" style=\"height:12px;width:6px;padding-left:6px;*padding-left:0px\">  </span>(anatomie)<span class=\"nbsp1\" style=\"height:12px;width:4px;padding-left:4px;*padding-left:0px\">  </span></span>,\n",
       " <span direction=\"target\" id=\"ID0EIF\" style=\"color:#0;\">partie cartilagineuse de l'oreille<span class=\"nbsp1\" style=\"height:12px;width:4px;padding-left:4px;*padding-left:0px\">  </span></span>,\n",
       " <span direction=\"\" id=\"ID0ETF\" style=\"color:#ffffff;\"> <span style=\"background-color:#000000\">5</span></span>,\n",
       " <span direction=\"\" id=\"ID0E3F\" style=\"color:#008000;\"> <span class=\"nbsp1\" style=\"height:12px;width:6px;padding-left:6px;*padding-left:0px\">  </span>(pâtisserie)<span class=\"nbsp1\" style=\"height:12px;width:4px;padding-left:4px;*padding-left:0px\">  </span></span>,\n",
       " <span direction=\"target\" id=\"ID0EIG\" style=\"color:#0;\">petit gâteau à base de pâte d'amande<span class=\"nbsp1\" style=\"height:12px;width:4px;padding-left:4px;*padding-left:0px\">  </span></span>,\n",
       " <span direction=\"\" id=\"ID0EQ\" style=\"color:#0000ff;\"><h2 class=\"resh2\">croquant</h2></span>,\n",
       " <span direction=\"\" id=\"ID0EW\" style=\"color:#0000ff;\">, es<span class=\"nbsp1\" style=\"height:12px;width:2px;padding-left:2px;*padding-left:0px\">  </span></span>,\n",
       " <span direction=\"\" id=\"ID0EAB\" style=\"color:#ffffff;\"> <span style=\"background-color:#000000\"></span></span>,\n",
       " <span direction=\"\" id=\"ID0ELB\" style=\"color:#B50000;\">adj m<span class=\"nbsp1\" style=\"height:12px;width:6px;padding-left:6px;*padding-left:0px\">  </span></span>,\n",
       " <span direction=\"\" id=\"ID0EVB\" style=\"color:#ffffff;\"> <span style=\"background-color:#000000\">1</span></span>,\n",
       " <span direction=\"target\" id=\"ID0E6B\" style=\"color:#0;\">croustillant, craquant<span class=\"nbsp1\" style=\"height:12px;width:4px;padding-left:4px;*padding-left:0px\">  </span></span>,\n",
       " <span direction=\"\" id=\"ID0EJC\" style=\"color:#ffffff;\"> <span style=\"background-color:#000000\"></span></span>,\n",
       " <span direction=\"\" id=\"ID0EUC\" style=\"color:#B50000;\">nm<span class=\"nbsp1\" style=\"height:12px;width:6px;padding-left:6px;*padding-left:0px\">  </span></span>,\n",
       " <span direction=\"\" id=\"ID0E5C\" style=\"color:#ffffff;\"> <span style=\"background-color:#000000\">2</span></span>,\n",
       " <span direction=\"target\" id=\"ID0EID\" style=\"color:#0;\">paysan, agriculteur, péon, éleveur, fermier, cultivateur, métayer, cul-terreux, manant, laboureur, péquenaud, terrien, vilain, campagnard, bouseux, villageois<span class=\"nbsp1\" style=\"height:12px;width:4px;padding-left:4px;*padding-left:0px\">  </span></span>,\n",
       " <span direction=\"\" id=\"ID0ETD\" style=\"color:#ffffff;\"> <span style=\"background-color:#000000\">3</span></span>,\n",
       " <span direction=\"target\" id=\"ID0E4D\" style=\"color:#0;\">misérable, miséreuse, gueux, va-nu-pieds, désespéré, traîne-misère, miséreux, hère, paria<span class=\"nbsp1\" style=\"height:12px;width:4px;padding-left:4px;*padding-left:0px\">  </span></span>,\n",
       " <span direction=\"\" id=\"ID0EIE\" style=\"color:#ffffff;\"> <span style=\"background-color:#000000\">4</span></span>,\n",
       " <span direction=\"target\" id=\"ID0ESE\" style=\"color:#0;\">biscuit, galette, petit-beurre, biscotte, gâteau<span class=\"nbsp1\" style=\"height:12px;width:4px;padding-left:4px;*padding-left:0px\">  </span></span>,\n",
       " <span class=\"ellipsis_text\" dir=\"ltr\" direction=\"\" id=\"0_LST\">sucrine</span>,\n",
       " <span direction=\"\" id=\"0_LWT\" title=\"Noun\">n.</span>,\n",
       " <span class=\"ellipsis_text\" dir=\"ltr\" direction=\"target\" id=\"0_LT\">petite laitue croquante</span>,\n",
       " <span class=\"ellipsis_text\" direction=\"\" id=\"0_LC\" title=\" \"> </span>]"
      ]
     },
     "execution_count": 9,
     "metadata": {},
     "output_type": "execute_result"
    }
   ],
   "source": [
    "html_elems"
   ]
  },
  {
   "cell_type": "code",
   "execution_count": 10,
   "metadata": {},
   "outputs": [
    {
     "data": {
      "text/html": [
       "<div>\n",
       "<style scoped>\n",
       "    .dataframe tbody tr th:only-of-type {\n",
       "        vertical-align: middle;\n",
       "    }\n",
       "\n",
       "    .dataframe tbody tr th {\n",
       "        vertical-align: top;\n",
       "    }\n",
       "\n",
       "    .dataframe thead th {\n",
       "        text-align: right;\n",
       "    }\n",
       "</style>\n",
       "<table border=\"1\" class=\"dataframe\">\n",
       "  <thead>\n",
       "    <tr style=\"text-align: right;\">\n",
       "      <th></th>\n",
       "      <th>francais</th>\n",
       "      <th>contexte</th>\n",
       "      <th>cat</th>\n",
       "      <th>definition</th>\n",
       "    </tr>\n",
       "  </thead>\n",
       "  <tbody>\n",
       "    <tr>\n",
       "      <th>0</th>\n",
       "      <td>croquant</td>\n",
       "      <td></td>\n",
       "      <td>adj m</td>\n",
       "      <td>qui croque sous la dent</td>\n",
       "    </tr>\n",
       "    <tr>\n",
       "      <th>1</th>\n",
       "      <td></td>\n",
       "      <td>(histoire)</td>\n",
       "      <td>nm</td>\n",
       "      <td>paysan révolté participant à une jacquerie</td>\n",
       "    </tr>\n",
       "    <tr>\n",
       "      <th>2</th>\n",
       "      <td></td>\n",
       "      <td>péjorativement</td>\n",
       "      <td></td>\n",
       "      <td>paysan</td>\n",
       "    </tr>\n",
       "    <tr>\n",
       "      <th>3</th>\n",
       "      <td></td>\n",
       "      <td>(anatomie)</td>\n",
       "      <td></td>\n",
       "      <td>partie cartilagineuse de l'oreille</td>\n",
       "    </tr>\n",
       "    <tr>\n",
       "      <th>4</th>\n",
       "      <td></td>\n",
       "      <td>(pâtisserie)</td>\n",
       "      <td></td>\n",
       "      <td>petit gâteau à base de pâte d'amande</td>\n",
       "    </tr>\n",
       "    <tr>\n",
       "      <th>5</th>\n",
       "      <td>croquant</td>\n",
       "      <td></td>\n",
       "      <td>adj m</td>\n",
       "      <td>croustillant, craquant</td>\n",
       "    </tr>\n",
       "    <tr>\n",
       "      <th>6</th>\n",
       "      <td></td>\n",
       "      <td></td>\n",
       "      <td>nm</td>\n",
       "      <td>paysan, agriculteur, péon, éleveur, fermier, c...</td>\n",
       "    </tr>\n",
       "    <tr>\n",
       "      <th>7</th>\n",
       "      <td></td>\n",
       "      <td></td>\n",
       "      <td></td>\n",
       "      <td>misérable, miséreuse, gueux, va-nu-pieds, dése...</td>\n",
       "    </tr>\n",
       "    <tr>\n",
       "      <th>8</th>\n",
       "      <td></td>\n",
       "      <td></td>\n",
       "      <td></td>\n",
       "      <td>biscuit, galette, petit-beurre, biscotte, gâteau</td>\n",
       "    </tr>\n",
       "    <tr>\n",
       "      <th>9</th>\n",
       "      <td>sucrine</td>\n",
       "      <td></td>\n",
       "      <td>n.</td>\n",
       "      <td>petite laitue croquante</td>\n",
       "    </tr>\n",
       "  </tbody>\n",
       "</table>\n",
       "</div>"
      ],
      "text/plain": [
       "   francais        contexte    cat  \\\n",
       "0  croquant                  adj m   \n",
       "1                (histoire)     nm   \n",
       "2            péjorativement          \n",
       "3                (anatomie)          \n",
       "4              (pâtisserie)          \n",
       "5  croquant                  adj m   \n",
       "6                               nm   \n",
       "7                                    \n",
       "8                                    \n",
       "9   sucrine                     n.   \n",
       "\n",
       "                                          definition  \n",
       "0                            qui croque sous la dent  \n",
       "1         paysan révolté participant à une jacquerie  \n",
       "2                                             paysan  \n",
       "3                 partie cartilagineuse de l'oreille  \n",
       "4               petit gâteau à base de pâte d'amande  \n",
       "5                             croustillant, craquant  \n",
       "6  paysan, agriculteur, péon, éleveur, fermier, c...  \n",
       "7  misérable, miséreuse, gueux, va-nu-pieds, dése...  \n",
       "8   biscuit, galette, petit-beurre, biscotte, gâteau  \n",
       "9                            petite laitue croquante  "
      ]
     },
     "execution_count": 10,
     "metadata": {},
     "output_type": "execute_result"
    }
   ],
   "source": [
    "content_df"
   ]
  },
  {
   "cell_type": "code",
   "execution_count": 11,
   "metadata": {},
   "outputs": [
    {
     "data": {
      "text/plain": [
       "'<span direction=\"\" id=\"ID0EQ\" style=\"color:#0000ff;\"><h2 class=\"resh2\">croquant</h2> <span class=\"nbsp1\" style=\"height:12px;width:4px;padding-left:4px;*padding-left:0px\">  </span></span> <span direction=\"\" id=\"ID0EZ\" style=\"color:#ffffff;\"> <span style=\"background-color:#000000\"></span></span> <span direction=\"\" id=\"ID0EEB\" style=\"color:#B50000;\">adj m<span class=\"nbsp1\" style=\"height:12px;width:6px;padding-left:6px;*padding-left:0px\">  </span></span> <span direction=\"\" id=\"ID0EOB\" style=\"color:#ffffff;\"> <span style=\"background-color:#000000\">1</span></span> <span direction=\"target\" id=\"ID0EYB\" style=\"color:#0;\">qui croque sous la dent<span class=\"nbsp1\" style=\"height:12px;width:4px;padding-left:4px;*padding-left:0px\">  </span></span> <span direction=\"\" id=\"ID0ECC\" style=\"color:#ffffff;\"> <span style=\"background-color:#000000\"></span></span> <span direction=\"\" id=\"ID0ENC\" style=\"color:#B50000;\">nm<span class=\"nbsp1\" style=\"height:12px;width:6px;padding-left:6px;*padding-left:0px\">  </span></span> <span direction=\"\" id=\"ID0EXC\" style=\"color:#ffffff;\"> <span style=\"background-color:#000000\">2</span></span> <span direction=\"\" id=\"ID0EAD\" style=\"color:#008000;\"> <span class=\"nbsp1\" style=\"height:12px;width:6px;padding-left:6px;*padding-left:0px\">  </span>(histoire)<span class=\"nbsp1\" style=\"height:12px;width:4px;padding-left:4px;*padding-left:0px\">  </span></span> <span direction=\"target\" id=\"ID0EMD\" style=\"color:#0;\">paysan révolté participant à une jacquerie<span class=\"nbsp1\" style=\"height:12px;width:4px;padding-left:4px;*padding-left:0px\">  </span></span> <span direction=\"\" id=\"ID0EXD\" style=\"color:#ffffff;\"> <span style=\"background-color:#000000\">3</span></span> <span direction=\"\" id=\"ID0EAE\" style=\"color:#008000;\">péjorativement<span class=\"nbsp1\" style=\"height:12px;width:4px;padding-left:4px;*padding-left:0px\">  </span></span> <span direction=\"target\" id=\"ID0EIE\" style=\"color:#0;\">paysan<span class=\"nbsp1\" style=\"height:12px;width:4px;padding-left:4px;*padding-left:0px\">  </span></span> <span direction=\"\" id=\"ID0ETE\" style=\"color:#ffffff;\"> <span style=\"background-color:#000000\">4</span></span> <span direction=\"\" id=\"ID0E3E\" style=\"color:#008000;\"> <span class=\"nbsp1\" style=\"height:12px;width:6px;padding-left:6px;*padding-left:0px\">  </span>(anatomie)<span class=\"nbsp1\" style=\"height:12px;width:4px;padding-left:4px;*padding-left:0px\">  </span></span> <span direction=\"target\" id=\"ID0EIF\" style=\"color:#0;\">partie cartilagineuse de l\\'oreille<span class=\"nbsp1\" style=\"height:12px;width:4px;padding-left:4px;*padding-left:0px\">  </span></span> <span direction=\"\" id=\"ID0ETF\" style=\"color:#ffffff;\"> <span style=\"background-color:#000000\">5</span></span> <span direction=\"\" id=\"ID0E3F\" style=\"color:#008000;\"> <span class=\"nbsp1\" style=\"height:12px;width:6px;padding-left:6px;*padding-left:0px\">  </span>(pâtisserie)<span class=\"nbsp1\" style=\"height:12px;width:4px;padding-left:4px;*padding-left:0px\">  </span></span> <span direction=\"target\" id=\"ID0EIG\" style=\"color:#0;\">petit gâteau à base de pâte d\\'amande<span class=\"nbsp1\" style=\"height:12px;width:4px;padding-left:4px;*padding-left:0px\">  </span></span> <span direction=\"\" id=\"ID0EQ\" style=\"color:#0000ff;\"><h2 class=\"resh2\">croquant</h2></span> <span direction=\"\" id=\"ID0EW\" style=\"color:#0000ff;\"> es<span class=\"nbsp1\" style=\"height:12px;width:2px;padding-left:2px;*padding-left:0px\">  </span></span> <span direction=\"\" id=\"ID0EAB\" style=\"color:#ffffff;\"> <span style=\"background-color:#000000\"></span></span> <span direction=\"\" id=\"ID0ELB\" style=\"color:#B50000;\">adj m<span class=\"nbsp1\" style=\"height:12px;width:6px;padding-left:6px;*padding-left:0px\">  </span></span> <span direction=\"\" id=\"ID0EVB\" style=\"color:#ffffff;\"> <span style=\"background-color:#000000\">1</span></span> <span direction=\"target\" id=\"ID0E6B\" style=\"color:#0;\">croustillant craquant<span class=\"nbsp1\" style=\"height:12px;width:4px;padding-left:4px;*padding-left:0px\">  </span></span> <span direction=\"\" id=\"ID0EJC\" style=\"color:#ffffff;\"> <span style=\"background-color:#000000\"></span></span> <span direction=\"\" id=\"ID0EUC\" style=\"color:#B50000;\">nm<span class=\"nbsp1\" style=\"height:12px;width:6px;padding-left:6px;*padding-left:0px\">  </span></span> <span direction=\"\" id=\"ID0E5C\" style=\"color:#ffffff;\"> <span style=\"background-color:#000000\">2</span></span> <span direction=\"target\" id=\"ID0EID\" style=\"color:#0;\">paysan agriculteur péon éleveur fermier cultivateur métayer cul-terreux manant laboureur péquenaud terrien vilain campagnard bouseux villageois<span class=\"nbsp1\" style=\"height:12px;width:4px;padding-left:4px;*padding-left:0px\">  </span></span> <span direction=\"\" id=\"ID0ETD\" style=\"color:#ffffff;\"> <span style=\"background-color:#000000\">3</span></span> <span direction=\"target\" id=\"ID0E4D\" style=\"color:#0;\">misérable miséreuse gueux va-nu-pieds désespéré traîne-misère miséreux hère paria<span class=\"nbsp1\" style=\"height:12px;width:4px;padding-left:4px;*padding-left:0px\">  </span></span> <span direction=\"\" id=\"ID0EIE\" style=\"color:#ffffff;\"> <span style=\"background-color:#000000\">4</span></span> <span direction=\"target\" id=\"ID0ESE\" style=\"color:#0;\">biscuit galette petit-beurre biscotte gâteau<span class=\"nbsp1\" style=\"height:12px;width:4px;padding-left:4px;*padding-left:0px\">  </span></span> <span class=\"ellipsis_text\" dir=\"ltr\" direction=\"\" id=\"0_LST\">sucrine</span> <span direction=\"\" id=\"0_LWT\" title=\"Noun\">n.</span> <span class=\"ellipsis_text\" dir=\"ltr\" direction=\"target\" id=\"0_LT\">petite laitue croquante</span> <span class=\"ellipsis_text\" direction=\"\" id=\"0_LC\" title=\" \"> </span>'"
      ]
     },
     "execution_count": 11,
     "metadata": {},
     "output_type": "execute_result"
    }
   ],
   "source": [
    "elems_norm"
   ]
  },
  {
   "cell_type": "code",
   "execution_count": 9,
   "metadata": {},
   "outputs": [
    {
     "data": {
      "text/plain": [
       "<span direction=\"\" id=\"ID0EQ\" style=\"color:#0000ff;\"><h2 class=\"resh2\">croquant</h2> <span class=\"nbsp1\" style=\"height:12px;width:4px;padding-left:4px;*padding-left:0px\"> </span></span> <span direction=\"\" id=\"ID0EZ\" style=\"color:#ffffff;\"> <span style=\"background-color:#000000\"></span></span> <span direction=\"\" id=\"ID0EEB\" style=\"color:#B50000;\">adj m<span class=\"nbsp1\" style=\"height:12px;width:6px;padding-left:6px;*padding-left:0px\"> </span></span> <span direction=\"\" id=\"ID0EOB\" style=\"color:#ffffff;\"> <span style=\"background-color:#000000\">1</span></span> <span direction=\"target\" id=\"ID0EYB\" style=\"color:#0;\">qui croque sous la dent<span class=\"nbsp1\" style=\"height:12px;width:4px;padding-left:4px;*padding-left:0px\"> </span></span> <span direction=\"\" id=\"ID0ECC\" style=\"color:#ffffff;\"> <span style=\"background-color:#000000\"></span></span> <span direction=\"\" id=\"ID0ENC\" style=\"color:#B50000;\">nm<span class=\"nbsp1\" style=\"height:12px;width:6px;padding-left:6px;*padding-left:0px\"> </span></span> <span direction=\"\" id=\"ID0EXC\" style=\"color:#ffffff;\"> <span style=\"background-color:#000000\">2</span></span> <span direction=\"\" id=\"ID0EAD\" style=\"color:#008000;\"> <span class=\"nbsp1\" style=\"height:12px;width:6px;padding-left:6px;*padding-left:0px\"> </span>(histoire)<span class=\"nbsp1\" style=\"height:12px;width:4px;padding-left:4px;*padding-left:0px\"> </span></span> <span direction=\"target\" id=\"ID0EMD\" style=\"color:#0;\">paysan révolté participant à une jacquerie<span class=\"nbsp1\" style=\"height:12px;width:4px;padding-left:4px;*padding-left:0px\"> </span></span> <span direction=\"\" id=\"ID0EXD\" style=\"color:#ffffff;\"> <span style=\"background-color:#000000\">3</span></span> <span direction=\"\" id=\"ID0EAE\" style=\"color:#008000;\">péjorativement<span class=\"nbsp1\" style=\"height:12px;width:4px;padding-left:4px;*padding-left:0px\"> </span></span> <span direction=\"target\" id=\"ID0EIE\" style=\"color:#0;\">paysan<span class=\"nbsp1\" style=\"height:12px;width:4px;padding-left:4px;*padding-left:0px\"> </span></span> <span direction=\"\" id=\"ID0ETE\" style=\"color:#ffffff;\"> <span style=\"background-color:#000000\">4</span></span> <span direction=\"\" id=\"ID0E3E\" style=\"color:#008000;\"> <span class=\"nbsp1\" style=\"height:12px;width:6px;padding-left:6px;*padding-left:0px\"> </span>(anatomie)<span class=\"nbsp1\" style=\"height:12px;width:4px;padding-left:4px;*padding-left:0px\"> </span></span> <span direction=\"target\" id=\"ID0EIF\" style=\"color:#0;\">partie cartilagineuse de l'oreille<span class=\"nbsp1\" style=\"height:12px;width:4px;padding-left:4px;*padding-left:0px\"> </span></span> <span direction=\"\" id=\"ID0ETF\" style=\"color:#ffffff;\"> <span style=\"background-color:#000000\">5</span></span> <span direction=\"\" id=\"ID0E3F\" style=\"color:#008000;\"> <span class=\"nbsp1\" style=\"height:12px;width:6px;padding-left:6px;*padding-left:0px\"> </span>(pâtisserie)<span class=\"nbsp1\" style=\"height:12px;width:4px;padding-left:4px;*padding-left:0px\"> </span></span> <span direction=\"target\" id=\"ID0EIG\" style=\"color:#0;\">petit gâteau à base de pâte d'amande<span class=\"nbsp1\" style=\"height:12px;width:4px;padding-left:4px;*padding-left:0px\"> </span></span> <span direction=\"\" id=\"ID0EQ\" style=\"color:#0000ff;\"><h2 class=\"resh2\">croquant</h2></span> <span direction=\"\" id=\"ID0EW\" style=\"color:#0000ff;\"> es<span class=\"nbsp1\" style=\"height:12px;width:2px;padding-left:2px;*padding-left:0px\"> </span></span> <span direction=\"\" id=\"ID0EAB\" style=\"color:#ffffff;\"> <span style=\"background-color:#000000\"></span></span> <span direction=\"\" id=\"ID0ELB\" style=\"color:#B50000;\">adj m<span class=\"nbsp1\" style=\"height:12px;width:6px;padding-left:6px;*padding-left:0px\"> </span></span> <span direction=\"\" id=\"ID0EVB\" style=\"color:#ffffff;\"> <span style=\"background-color:#000000\">1</span></span> <span direction=\"target\" id=\"ID0E6B\" style=\"color:#0;\">croustillant craquant<span class=\"nbsp1\" style=\"height:12px;width:4px;padding-left:4px;*padding-left:0px\"> </span></span> <span direction=\"\" id=\"ID0EJC\" style=\"color:#ffffff;\"> <span style=\"background-color:#000000\"></span></span> <span direction=\"\" id=\"ID0EUC\" style=\"color:#B50000;\">nm<span class=\"nbsp1\" style=\"height:12px;width:6px;padding-left:6px;*padding-left:0px\"> </span></span> <span direction=\"\" id=\"ID0E5C\" style=\"color:#ffffff;\"> <span style=\"background-color:#000000\">2</span></span> <span direction=\"target\" id=\"ID0EID\" style=\"color:#0;\">paysan agriculteur péon éleveur fermier cultivateur métayer cul-terreux manant laboureur péquenaud terrien vilain campagnard bouseux villageois<span class=\"nbsp1\" style=\"height:12px;width:4px;padding-left:4px;*padding-left:0px\"> </span></span> <span direction=\"\" id=\"ID0ETD\" style=\"color:#ffffff;\"> <span style=\"background-color:#000000\">3</span></span> <span direction=\"target\" id=\"ID0E4D\" style=\"color:#0;\">misérable miséreuse gueux va-nu-pieds désespéré traîne-misère miséreux hère paria<span class=\"nbsp1\" style=\"height:12px;width:4px;padding-left:4px;*padding-left:0px\"> </span></span> <span direction=\"\" id=\"ID0EIE\" style=\"color:#ffffff;\"> <span style=\"background-color:#000000\">4</span></span> <span direction=\"target\" id=\"ID0ESE\" style=\"color:#0;\">biscuit galette petit-beurre biscotte gâteau<span class=\"nbsp1\" style=\"height:12px;width:4px;padding-left:4px;*padding-left:0px\"> </span></span> <span class=\"ellipsis_text\" dir=\"ltr\" direction=\"\" id=\"0_LST\">sucrine</span> <span direction=\"\" id=\"0_LWT\" title=\"Noun\">n.</span> <span class=\"ellipsis_text\" dir=\"ltr\" direction=\"target\" id=\"0_LT\">petite laitue croquante</span> <span class=\"ellipsis_text\" direction=\"\" id=\"0_LC\" title=\" \"> </span>"
      ]
     },
     "execution_count": 9,
     "metadata": {},
     "output_type": "execute_result"
    }
   ],
   "source": [
    "import bs4\n",
    "\n",
    "bs4.BeautifulSoup(elems_norm)"
   ]
  },
  {
   "cell_type": "code",
   "execution_count": 10,
   "metadata": {},
   "outputs": [
    {
     "data": {
      "text/plain": [
       "bs4.BeautifulSoup"
      ]
     },
     "execution_count": 10,
     "metadata": {},
     "output_type": "execute_result"
    }
   ],
   "source": [
    "type(_)"
   ]
  },
  {
   "cell_type": "code",
   "execution_count": null,
   "metadata": {},
   "outputs": [],
   "source": []
  }
 ],
 "metadata": {
  "kernelspec": {
   "display_name": "Python 3",
   "language": "python",
   "name": "python3"
  },
  "language_info": {
   "codemirror_mode": {
    "name": "ipython",
    "version": 3
   },
   "file_extension": ".py",
   "mimetype": "text/x-python",
   "name": "python",
   "nbconvert_exporter": "python",
   "pygments_lexer": "ipython3",
   "version": "3.8.2"
  }
 },
 "nbformat": 4,
 "nbformat_minor": 4
}
